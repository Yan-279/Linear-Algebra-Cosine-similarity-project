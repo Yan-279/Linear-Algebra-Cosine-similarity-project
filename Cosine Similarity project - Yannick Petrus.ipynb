{
 "cells": [
  {
   "cell_type": "code",
   "execution_count": 6,
   "metadata": {},
   "outputs": [
    {
     "name": "stdout",
     "output_type": "stream",
     "text": [
      "Hello wORld & %$!CAN I eat pizzA\n",
      "YOU eat AND i can eat pizza\n",
      "Dico: ['and', 'can', 'eat', 'hello', 'i', 'pizza', 'world', 'you']\n",
      "[0, 1, 1, 1, 1, 1, 1, 0]\n",
      "[1, 1, 2, 0, 1, 1, 0, 1]\n",
      "['hello', 'world', 'can', 'i', 'eat', 'pizza']\n",
      "['you', 'eat', 'and', 'i', 'can', 'eat', 'pizza']\n"
     ]
    }
   ],
   "source": [
    "ip1 = input()\n",
    "ip2 = input()\n",
    "\n",
    "#ip1 = \"Hello wORld & %$!CAN I eat pizzA\"\n",
    "#ip2 = \"YOU eat AND i can eat pizza\"\n",
    "\n",
    "def clean(txt):\n",
    "    txt = txt.lower()\n",
    "    ctxt = \"\"\n",
    "    for i in txt:\n",
    "        if (i.isalnum() or i.isspace()):\n",
    "            ctxt += i\n",
    "    ctxt = ctxt.split()\n",
    "    return ctxt\n",
    "\n",
    "ip11 = clean(ip1)\n",
    "ip22 = clean(ip2) \n",
    "dico = []\n",
    "for i in ip11:\n",
    "    if i not in dico:\n",
    "        dico.append(i)\n",
    "\n",
    "for i in ip22:\n",
    "    if i not in dico:\n",
    "        dico.append(i)\n",
    "\n",
    "dico.sort()\n",
    "print(\"Dico:\",dico)\n",
    "vec1 = []\n",
    "vec2 = []\n",
    "for i in dico:\n",
    "    vec1.append(ip11.count(i))\n",
    "    vec2.append(ip22.count(i))\n",
    "\n",
    "print(vec1)\n",
    "print(vec2)    \n",
    "print(ip11)\n",
    "print(ip22)"
   ]
  },
  {
   "cell_type": "code",
   "execution_count": 9,
   "metadata": {},
   "outputs": [
    {
     "name": "stdout",
     "output_type": "stream",
     "text": [
      "[0, 1, 1, 1, 1, 1, 1, 0]\n",
      "[1, 1, 2, 0, 1, 1, 0, 1]\n",
      "0.6804138174397717\n"
     ]
    }
   ],
   "source": [
    "import math\n",
    "def cos_sim(v1,v2):\n",
    "    \"\"\"Cosine similarity of vec1, vec2: (v1 dot v2)/{||v1||*||v2||)\"\"\"\n",
    "    suma, dot, sumc = 0, 0, 0\n",
    "    for i in range(len(v1)):\n",
    "        x = v1[i]; y = v2[i]\n",
    "        suma += x*x\n",
    "        sumc += y*y\n",
    "        dot += x*y\n",
    "    return dot/math.sqrt(suma*sumc)\n",
    "\n",
    "print(vec1)\n",
    "print(vec2)\n",
    "print(\"The cosine similarity between the two sentences is:\" + cos_sim(vec1,vec2))"
   ]
  },
  {
   "cell_type": "code",
   "execution_count": null,
   "metadata": {},
   "outputs": [],
   "source": []
  },
  {
   "cell_type": "code",
   "execution_count": null,
   "metadata": {},
   "outputs": [],
   "source": []
  }
 ],
 "metadata": {
  "kernelspec": {
   "display_name": "Python 3",
   "language": "python",
   "name": "python3"
  },
  "language_info": {
   "codemirror_mode": {
    "name": "ipython",
    "version": 3
   },
   "file_extension": ".py",
   "mimetype": "text/x-python",
   "name": "python",
   "nbconvert_exporter": "python",
   "pygments_lexer": "ipython3",
   "version": "3.7.4"
  }
 },
 "nbformat": 4,
 "nbformat_minor": 2
}
